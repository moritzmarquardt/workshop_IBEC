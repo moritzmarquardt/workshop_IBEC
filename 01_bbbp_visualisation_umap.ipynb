{
  "cells": [
    {
      "cell_type": "markdown",
      "metadata": {
        "id": "dzmJAwfiAi6k"
      },
      "source": [
        "# Visualise the BBBP dataset using Uniform Manifold Approximation and Projection (UMAP)\n",
        "\n",
        "**Content**:\n",
        "- Create 2D visualization of Blood Brain Barrier Permeability (BBBP) dataset with UMAP\n",
        "- Embed compounts of interest into the embedding\n",
        "\n",
        "**The dataset**:  \n",
        "The BBBP (Blood-Brain Barrier Penetration) dataset from [MoleculeNet](https://moleculenet.org/datasets-1) contains information on compounds and their ability to penetrate the blood-brain barrier, which is crucial for drug discovery and development.\n",
        "\n",
        "**The method**:  \n",
        "The UMAP method is an example of *unsupervised* machine learning that can embed high dimensional data in a lower dimensional space. Its advantages are that it preserves the local and global structure of the data.\n",
        "\n",
        "**Methodology**:\n",
        "- This notebook has gaps (marked with a `#TODO`) that you have to fill. \n",
        "- If all gaps are filled in correctly, the notebook cells can be run.\n",
        "- A solution notebook with all gaps filled is provided in the GitHub repository.\n",
        "\n",
        "This notebook has been created being inspired by or using content from [Source Notebook on Google Colab](https://colab.research.google.com/gist/ElanaPearl/444b3331f61485bbe8862db27cb2b968/mapping-chemical-space-with-umap.ipynb#scrollTo=dzmJAwfiAi6k)"
      ]
    },
    {
      "cell_type": "markdown",
      "metadata": {
        "id": "ZfM8WRfW4gOY"
      },
      "source": [
        "## 1. Import libraries and format data\n",
        "Here all necessary libraries are imported and the necessary data is fetched.\n",
        "\n",
        "- `os`: Provides functions to interact with the operating system, such as checking file existence.\n",
        "- `pandas`: Used for data manipulation and analysis.\n",
        "- `numpy`: Provides support for numerical computations.\n",
        "- `seaborn`: A visualization library based on matplotlib for statistical graphics.\n",
        "- `matplotlib.pyplot`: A plotting library for creating static, animated, and interactive visualizations.\n",
        "- `rdkit`: A toolkit for cheminformatics, used for handling chemical information.\n",
        "- `sklearn`: A machine learning library for data analysis and modeling.\n",
        "- `umap.umap_`: A library for dimensionality reduction using UMAP (Uniform Manifold Approximation and Projection)."
      ]
    },
    {
      "cell_type": "code",
      "execution_count": null,
      "metadata": {},
      "outputs": [],
      "source": [
        "# install packages that are not available in google colab\n",
        "%pip install rdkit"
      ]
    },
    {
      "cell_type": "code",
      "execution_count": null,
      "metadata": {
        "id": "prDjzDTU384B"
      },
      "outputs": [],
      "source": [
        "import os\n",
        "\n",
        "import pandas as pd\n",
        "import numpy as np\n",
        "import seaborn as sns\n",
        "import matplotlib.pyplot as plt\n",
        "import rdkit\n",
        "import sklearn\n",
        "import umap.umap_ as umap\n",
        "\n",
        "from rdkit.Chem import AllChem\n",
        "from rdkit.Chem.MolStandardize.rdMolStandardize import LargestFragmentChooser"
      ]
    },
    {
      "cell_type": "code",
      "execution_count": null,
      "metadata": {
        "id": "pxt6MXTU4F4w"
      },
      "outputs": [],
      "source": [
        "# Silence non-critical RDKit warnings to minimize unnecessary outputs\n",
        "lg = rdkit.RDLogger.logger()\n",
        "lg.setLevel(rdkit.RDLogger.CRITICAL)"
      ]
    },
    {
      "cell_type": "markdown",
      "metadata": {},
      "source": [
        "We also define the following three helper functions that we need later in the notebook."
      ]
    },
    {
      "cell_type": "code",
      "execution_count": null,
      "metadata": {
        "id": "3E4Tl7mx4HNV"
      },
      "outputs": [],
      "source": [
        "def get_largest_fragment_from_smiles(s: str):\n",
        "    \"\"\"\n",
        "    Get the largest fragment from a SMILES string.\n",
        "    Args:\n",
        "        s: SMILES string\n",
        "    Returns:\n",
        "        str: SMILES string of the largest fragment\n",
        "    \"\"\"\n",
        "    mol = rdkit.Chem.MolFromSmiles(s)\n",
        "    if mol:\n",
        "        clean_mol = LargestFragmentChooser().choose(mol)\n",
        "        return rdkit.Chem.MolToSmiles(clean_mol)\n",
        "    return None\n",
        "\n",
        "def compute_ecfp_descriptors(smiles_list):\n",
        "    \"\"\" \n",
        "    Computes ecfp descriptors for a list of SMILES strings.\n",
        "    Args:\n",
        "        smiles_list: list of SMILES strings\n",
        "    Returns: \n",
        "        np.array: ECFP descriptors\n",
        "        list: list of indices of the SMILES strings that were successfully converted\n",
        "    \"\"\"\n",
        "\n",
        "    keep_idx = []\n",
        "    descriptors = []\n",
        "    for i, smiles in enumerate(smiles_list):\n",
        "        ecfp = _compute_single_ecfp_descriptor(smiles)\n",
        "        if ecfp is not None:\n",
        "            keep_idx.append(i)\n",
        "            descriptors.append(ecfp)\n",
        "\n",
        "    return np.vstack(descriptors), keep_idx\n",
        "\n",
        "def _compute_single_ecfp_descriptor(smiles: str):\n",
        "    \"\"\"\"\n",
        "    Computes ECFP descriptors for a single SMILES string.\n",
        "    Args:\n",
        "        smiles: SMILES string\n",
        "    Returns:\n",
        "        np.array: ECFP descriptors\n",
        "    \"\"\"\n",
        "    try:\n",
        "        mol = rdkit.Chem.MolFromSmiles(smiles)\n",
        "    except Exception as E:\n",
        "        return None\n",
        "\n",
        "    if mol:\n",
        "        fp = rdkit.Chem.AllChem.GetMorganFingerprintAsBitVect(mol, radius=2, nBits=2048)\n",
        "        return np.array(fp)\n",
        "\n",
        "    return None"
      ]
    },
    {
      "cell_type": "markdown",
      "metadata": {},
      "source": [
        "Load BBBP dataset from the internet if neccesary (For example if this notebook is used in a Google colab, the data has to be retrieved and saved from the online GitHub repository)."
      ]
    },
    {
      "cell_type": "code",
      "execution_count": null,
      "metadata": {},
      "outputs": [],
      "source": [
        "import urllib.request\n",
        "\n",
        "if not os.path.exists('data/BBBP.csv'):\n",
        "    os.makedirs('data', exist_ok=True)\n",
        "    url = \"https://github.com/moritzmarquardt/workshop_IBEC/raw/refs/heads/main/data/BBBP.csv\"\n",
        "    urllib.request.urlretrieve(url, \"data/BBBP.csv\")\n",
        "    print(\"Data loaded from URL and saved locally\")\n",
        "\n",
        "bbbp = pd.read_csv(\"data/BBBP.csv\")\n",
        "bbbp.head()"
      ]
    },
    {
      "cell_type": "markdown",
      "metadata": {},
      "source": [
        "### Format the BBBP dataset\n",
        "- Change column names for easier interpretability\n",
        "- remove extra fragments in the SMILES representation that is irrelevant for the brain-blood-barrier permeability (typically salts)\n"
      ]
    },
    {
      "cell_type": "code",
      "execution_count": null,
      "metadata": {},
      "outputs": [],
      "source": [
        "# Clean up columnn names so they are easier to interpret\n",
        "bbbp = bbbp[[\"smiles\", \"p_np\", \"name\"]].reset_index(drop=True).rename({\"p_np\": \"permeable\"}, axis=1)\n",
        "\n",
        "#reorder columns\n",
        "bbbp = bbbp[[\"name\", \"smiles\", \"permeable\"]]\n",
        "\n",
        "# Remove extra fragments in SMILES \n",
        "bbbp[\"smiles\"] = bbbp[\"smiles\"].apply(get_largest_fragment_from_smiles).dropna()\n",
        "\n",
        "pd.DataFrame(bbbp).head(10)"
      ]
    },
    {
      "cell_type": "markdown",
      "metadata": {
        "id": "G2vHQze74VKb"
      },
      "source": [
        "## 2. Transform SMILES (strings) to ECFP (binary) encoding\n",
        "\n",
        "In this section, the Extended Connectivity Fingerprints (ECFPs) are computed for the SMILES strings in the dataset. ECFPs are a type of molecular descriptor that encodes the structure of a molecule into a fixed-length (2048 dimensions) binary vector. Read more about [ECFPs](https://pubs.acs.org/doi/10.1021/ci100050t)."
      ]
    },
    {
      "cell_type": "code",
      "execution_count": null,
      "metadata": {
        "id": "nMXWODms4LYD"
      },
      "outputs": [],
      "source": [
        "# Compute desrciptors and keep track of which failed to featurize\n",
        "ecfp_descriptors, keep_idx = compute_ecfp_descriptors(bbbp[\"smiles\"])\n",
        "\n",
        "# Only keep those that sucessfully featurized\n",
        "bbbp = bbbp.iloc[keep_idx]\n",
        "\n",
        "pd.DataFrame(ecfp_descriptors).head()"
      ]
    },
    {
      "cell_type": "markdown",
      "metadata": {
        "id": "twVYDzor5Gkm"
      },
      "source": [
        "## 3. Calculate UMAP embedding of ECFP encodings\n",
        "\n",
        "**TODO**:\n",
        "- Use the umap-learn library to define and fit a umap.UMAP object to the ecfp_descriptors"
      ]
    },
    {
      "cell_type": "code",
      "execution_count": null,
      "metadata": {
        "colab": {
          "base_uri": "https://localhost:8080/"
        },
        "id": "TpDXJ1qX5IZK",
        "outputId": "ab11f2fb-ea85-4e8c-e25d-f817c433ad33"
      },
      "outputs": [],
      "source": [
        "#TODO define the umap_reducer object as a umap.UMAP object with the following parameters:\n",
        "# metric = \"jaccard\" (because we use ecfp_descriptors which are binary)\n",
        "# n_neighbors = 25 (effect: how much local information is preserved)\n",
        "# n_components = 2 (effect: how many dimensions the data is reduced to)\n",
        "# low_memory = False\n",
        "# min_dist = 0.001 (effect: how much the points are spread out in the embedding space)\n",
        "umap_reducer = \n",
        "\n",
        "#TODO use the fit_transform method of the umap_reducer object to transform the ecfp_descriptors and assign the result to the umap_embedding variable\n",
        "umap_embedding = \n",
        "\n",
        "# Assign the UMAP coordinates to the bbbp dataframe\n",
        "bbbp[\"UMAP_0\"], bbbp[\"UMAP_1\"] = umap_embedding[:,0], umap_embedding[:,1]\n",
        "\n",
        "pd.DataFrame(bbbp).head()\n",
        "\n",
        "#TODO (for fast people) Try different parameters for the UMAP object and see how the results change"
      ]
    },
    {
      "cell_type": "markdown",
      "metadata": {
        "id": "8rq0POe_5nQi"
      },
      "source": [
        "## 4. Visualise UMAP\n",
        "\n",
        "A scatter plot is created using the UMAP coordinates (`UMAP_0` and `UMAP_1`) from the `bbbp` dataframe. The compounds are color-coded based on their permeability (`permeable` column)."
      ]
    },
    {
      "cell_type": "code",
      "execution_count": null,
      "metadata": {
        "colab": {
          "base_uri": "https://localhost:8080/",
          "height": 1000
        },
        "id": "k1XiU8SI5oCt",
        "outputId": "5ce8f423-f89a-4990-d821-492e5466b514"
      },
      "outputs": [],
      "source": [
        "palette = sns.color_palette([\"hotpink\", \"dodgerblue\"])\n",
        "plt.figure(figsize=(5, 5))\n",
        "sns.scatterplot(data=bbbp,\n",
        "                x=\"UMAP_0\",\n",
        "                y=\"UMAP_1\",\n",
        "                hue=\"permeable\",\n",
        "                alpha=0.5,\n",
        "                palette=palette)\n",
        "plt.title(f\"UMAP Embedding of BBBP Dataset\", fontsize=10)\n",
        "plt.show()"
      ]
    },
    {
      "cell_type": "markdown",
      "metadata": {},
      "source": [
        "## 5. Project compounds of interest onto the existing UMAP\n",
        "\n",
        "Here, we select a few compounds of interest and calculate their ECFP descriptors to embed them into the existing UMAP.\n",
        "\n",
        "**TODO**:\n",
        "1. Project (transform) the compund ECFP descriptors onto the previously calculated UMAP.\n",
        "\n",
        "**Source of smiles descriptors**:\n",
        "At [PubChem](https://pubchem.ncbi.nlm.nih.gov/) you can find smiles descriptors for chemical compounds."
      ]
    },
    {
      "cell_type": "code",
      "execution_count": null,
      "metadata": {},
      "outputs": [],
      "source": [
        "# embed a few compounds of interest into the umap\n",
        "compounds_of_interest = pd.DataFrame()\n",
        "compounds_of_interest[\"name\"] = [\n",
        "    \"Caffeine (1)\", \n",
        "    \"Penicillin G (0)\", \n",
        "    \"Ethanol (1)\",\n",
        "    \"Gold\"\n",
        "    ]\n",
        "compounds_of_interest[\"smiles\"] = [\n",
        "    \"CN1C=NC2=C1C(=O)N(C(=O)N2C)C\", \n",
        "    \"CC1([C@@H](N2[C@H](S1)[C@@H](C2=O)NC(=O)CC3=CC=CC=C3)C(=O)O)C\", \n",
        "    \"CCO\",\n",
        "    \"[Au]\"\n",
        "    ]\n",
        "# 0 for non-permeable, 1 for permeable, 2 for undefined\n",
        "compounds_of_interest[\"permeable\"] = [\n",
        "    1, \n",
        "    0, \n",
        "    1,\n",
        "    2\n",
        "    ]\n",
        "compounds_of_interest"
      ]
    },
    {
      "cell_type": "code",
      "execution_count": null,
      "metadata": {},
      "outputs": [],
      "source": [
        "ecfp_compounds_of_interest, keep_idx = compute_ecfp_descriptors(compounds_of_interest[\"smiles\"])\n",
        "\n",
        "# Only keep those that sucessfully featurized\n",
        "compounds_of_interest = compounds_of_interest.iloc[keep_idx]\n",
        "\n",
        "pd.DataFrame(ecfp_compounds_of_interest)\n"
      ]
    },
    {
      "cell_type": "code",
      "execution_count": null,
      "metadata": {},
      "outputs": [],
      "source": [
        "#TODO use the transform method of the umap_reducer object to transform the ecfp_compounds_of_interest\n",
        "transformed_compounds_of_interest = \n",
        "\n",
        "compounds_of_interest[\"UMAP_0\"], compounds_of_interest[\"UMAP_1\"] = transformed_compounds_of_interest[:,0], transformed_compounds_of_interest[:,1]\n",
        "compounds_of_interest"
      ]
    },
    {
      "cell_type": "code",
      "execution_count": null,
      "metadata": {},
      "outputs": [],
      "source": [
        "plt.figure(figsize=(5, 5))\n",
        "palette = sns.color_palette([\"hotpink\", \"dodgerblue\", \"grey\"])\n",
        "sns.scatterplot(data=bbbp,\n",
        "                x=\"UMAP_0\",\n",
        "                y=\"UMAP_1\",\n",
        "                hue=\"permeable\",\n",
        "                alpha=0.5,\n",
        "                palette=palette)\n",
        "colors = [\"black\", \"red\", \"blue\", \"green\"]\n",
        "for i, row in compounds_of_interest.iterrows():\n",
        "    plt.scatter(row[\"UMAP_0\"], row[\"UMAP_1\"], s=100, edgecolor='black', facecolor=palette[row[\"permeable\"]])\n",
        "    plt.text(row[\"UMAP_0\"] + 0.7, row[\"UMAP_1\"], row[\"name\"], fontsize=10, va='center', bbox=dict(facecolor='white', alpha=0.8))\n",
        "plt.legend()\n",
        "plt.show()\n",
        "\n",
        "\n",
        "#TODO (for fast people): Go to PubChem and find a molecule of interest, compute its ECFP descriptors and embed it into the UMAP plot."
      ]
    },
    {
      "cell_type": "markdown",
      "metadata": {},
      "source": [
        "Takeaway from this last section:  \n",
        "We can project own compounds of interest onto the existing UMAP embedding and by this see, if the compounds of interest are close in terms of their structure to other compounds in the BBBP dataset."
      ]
    }
  ],
  "metadata": {
    "colab": {
      "collapsed_sections": [
        "ZfM8WRfW4gOY"
      ],
      "name": "Mapping Chemical Space with UMAP.ipynb",
      "provenance": []
    },
    "kernelspec": {
      "display_name": ".venv",
      "language": "python",
      "name": "python3"
    },
    "language_info": {
      "codemirror_mode": {
        "name": "ipython",
        "version": 3
      },
      "file_extension": ".py",
      "mimetype": "text/x-python",
      "name": "python",
      "nbconvert_exporter": "python",
      "pygments_lexer": "ipython3",
      "version": "3.10.11"
    }
  },
  "nbformat": 4,
  "nbformat_minor": 0
}

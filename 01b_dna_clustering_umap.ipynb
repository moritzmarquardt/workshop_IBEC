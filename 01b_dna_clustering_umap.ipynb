{
 "cells": [
  {
   "cell_type": "markdown",
   "metadata": {},
   "source": [
    "# scRNA-seq dataset clustering\n",
    "this is unsupervised machine learning\n",
    "source: https://www.reneshbedre.com/blog/umap-in-python.html "
   ]
  },
  {
   "cell_type": "code",
   "execution_count": 1,
   "metadata": {},
   "outputs": [
    {
     "name": "stderr",
     "output_type": "stream",
     "text": [
      "c:\\Users\\marqu\\SynologyDrive\\Drive\\Aktivitäten\\FORSCHUNG\\Talk IBEC Barcelona\\workshop_py\\.venv\\Lib\\site-packages\\tqdm\\auto.py:21: TqdmWarning: IProgress not found. Please update jupyter and ipywidgets. See https://ipywidgets.readthedocs.io/en/stable/user_install.html\n",
      "  from .autonotebook import tqdm as notebook_tqdm\n"
     ]
    }
   ],
   "source": [
    "import pandas as pd\n",
    "import umap\n",
    "import matplotlib.pyplot as plt\n",
    "from sklearn.cluster import DBSCAN\n",
    "from collections import Counter\n"
   ]
  },
  {
   "cell_type": "code",
   "execution_count": 2,
   "metadata": {},
   "outputs": [
    {
     "data": {
      "text/html": [
       "<div>\n",
       "<style scoped>\n",
       "    .dataframe tbody tr th:only-of-type {\n",
       "        vertical-align: middle;\n",
       "    }\n",
       "\n",
       "    .dataframe tbody tr th {\n",
       "        vertical-align: top;\n",
       "    }\n",
       "\n",
       "    .dataframe thead th {\n",
       "        text-align: right;\n",
       "    }\n",
       "</style>\n",
       "<table border=\"1\" class=\"dataframe\">\n",
       "  <thead>\n",
       "    <tr style=\"text-align: right;\">\n",
       "      <th></th>\n",
       "      <th>cells</th>\n",
       "      <th>AT1G01070</th>\n",
       "      <th>RPP1A</th>\n",
       "      <th>HTR12</th>\n",
       "      <th>AT1G01453</th>\n",
       "      <th>ADF10</th>\n",
       "      <th>PLIM2B</th>\n",
       "      <th>SBTI1.1</th>\n",
       "      <th>GL22</th>\n",
       "      <th>GPAT2</th>\n",
       "      <th>...</th>\n",
       "      <th>AT5G66440</th>\n",
       "      <th>AT5G66580</th>\n",
       "      <th>AT5G66590</th>\n",
       "      <th>AT5G66800</th>\n",
       "      <th>AT5G66815</th>\n",
       "      <th>AT5G66860</th>\n",
       "      <th>AT5G66985</th>\n",
       "      <th>IRX14H</th>\n",
       "      <th>PER73</th>\n",
       "      <th>RPL26B</th>\n",
       "    </tr>\n",
       "  </thead>\n",
       "  <tbody>\n",
       "    <tr>\n",
       "      <th>0</th>\n",
       "      <td>AAACCTGAGACAGACC-1</td>\n",
       "      <td>0.51</td>\n",
       "      <td>1.40</td>\n",
       "      <td>-0.26</td>\n",
       "      <td>-0.28</td>\n",
       "      <td>-0.24</td>\n",
       "      <td>-0.14</td>\n",
       "      <td>-0.13</td>\n",
       "      <td>-0.07</td>\n",
       "      <td>-0.29</td>\n",
       "      <td>...</td>\n",
       "      <td>0.61</td>\n",
       "      <td>-0.55</td>\n",
       "      <td>-0.41</td>\n",
       "      <td>-0.43</td>\n",
       "      <td>2.01</td>\n",
       "      <td>3.01</td>\n",
       "      <td>-0.24</td>\n",
       "      <td>-0.18</td>\n",
       "      <td>-0.34</td>\n",
       "      <td>1.16</td>\n",
       "    </tr>\n",
       "    <tr>\n",
       "      <th>1</th>\n",
       "      <td>AAACCTGAGATCCGAG-1</td>\n",
       "      <td>-0.22</td>\n",
       "      <td>1.36</td>\n",
       "      <td>-0.26</td>\n",
       "      <td>-0.28</td>\n",
       "      <td>-0.60</td>\n",
       "      <td>-0.51</td>\n",
       "      <td>-0.13</td>\n",
       "      <td>-0.07</td>\n",
       "      <td>-0.29</td>\n",
       "      <td>...</td>\n",
       "      <td>-0.48</td>\n",
       "      <td>-0.55</td>\n",
       "      <td>-0.41</td>\n",
       "      <td>-0.43</td>\n",
       "      <td>-0.24</td>\n",
       "      <td>0.89</td>\n",
       "      <td>-0.24</td>\n",
       "      <td>-0.18</td>\n",
       "      <td>-0.49</td>\n",
       "      <td>-0.68</td>\n",
       "    </tr>\n",
       "  </tbody>\n",
       "</table>\n",
       "<p>2 rows × 2001 columns</p>\n",
       "</div>"
      ],
      "text/plain": [
       "                cells  AT1G01070  RPP1A  HTR12  AT1G01453  ADF10  PLIM2B  \\\n",
       "0  AAACCTGAGACAGACC-1       0.51   1.40  -0.26      -0.28  -0.24   -0.14   \n",
       "1  AAACCTGAGATCCGAG-1      -0.22   1.36  -0.26      -0.28  -0.60   -0.51   \n",
       "\n",
       "   SBTI1.1  GL22  GPAT2  ...  AT5G66440  AT5G66580  AT5G66590  AT5G66800  \\\n",
       "0    -0.13 -0.07  -0.29  ...       0.61      -0.55      -0.41      -0.43   \n",
       "1    -0.13 -0.07  -0.29  ...      -0.48      -0.55      -0.41      -0.43   \n",
       "\n",
       "   AT5G66815  AT5G66860  AT5G66985  IRX14H  PER73  RPL26B  \n",
       "0       2.01       3.01      -0.24   -0.18  -0.34    1.16  \n",
       "1      -0.24       0.89      -0.24   -0.18  -0.49   -0.68  \n",
       "\n",
       "[2 rows x 2001 columns]"
      ]
     },
     "execution_count": 2,
     "metadata": {},
     "output_type": "execute_result"
    }
   ],
   "source": [
    "df = pd.read_csv(\"https://reneshbedre.github.io/assets/posts/gexp/ath_sc_expression.csv\")\n",
    "df.head(2)"
   ]
  },
  {
   "cell_type": "code",
   "execution_count": 3,
   "metadata": {},
   "outputs": [
    {
     "data": {
      "text/plain": [
       "(4406, 2000)"
      ]
     },
     "execution_count": 3,
     "metadata": {},
     "output_type": "execute_result"
    }
   ],
   "source": [
    "# set first column as index\n",
    "df = df.set_index('cells')\n",
    "\n",
    "# check the dimension (rows, columns)\n",
    "df.shape"
   ]
  },
  {
   "cell_type": "code",
   "execution_count": 4,
   "metadata": {},
   "outputs": [
    {
     "name": "stderr",
     "output_type": "stream",
     "text": [
      "c:\\Users\\marqu\\SynologyDrive\\Drive\\Aktivitäten\\FORSCHUNG\\Talk IBEC Barcelona\\workshop_py\\.venv\\Lib\\site-packages\\sklearn\\utils\\deprecation.py:151: FutureWarning: 'force_all_finite' was renamed to 'ensure_all_finite' in 1.6 and will be removed in 1.8.\n",
      "  warnings.warn(\n",
      "c:\\Users\\marqu\\SynologyDrive\\Drive\\Aktivitäten\\FORSCHUNG\\Talk IBEC Barcelona\\workshop_py\\.venv\\Lib\\site-packages\\umap\\umap_.py:1952: UserWarning: n_jobs value 1 overridden to 1 by setting random_state. Use no seed for parallelism.\n",
      "  warn(\n"
     ]
    },
    {
     "data": {
      "text/plain": [
       "(4406, 2)"
      ]
     },
     "execution_count": 4,
     "metadata": {},
     "output_type": "execute_result"
    }
   ],
   "source": [
    "embedding = umap.UMAP(random_state=42)\n",
    "embedding = embedding.fit_transform(df)\n",
    "\n",
    "embedding.shape"
   ]
  },
  {
   "cell_type": "code",
   "execution_count": 5,
   "metadata": {},
   "outputs": [
    {
     "data": {
      "image/png": "[encoded data removed]",
      "text/plain": [
       "<Figure size 640x480 with 1 Axes>"
      ]
     },
     "metadata": {},
     "output_type": "display_data"
    }
   ],
   "source": [
    "plt.scatter(embedding[:, 0], embedding[:, 1])\n",
    "plt.title('UMAP clustering of 4406 cells', fontsize=20)\n",
    "plt.xlabel('UMAP_1')\n",
    "plt.ylabel('UMAP_2')\n",
    "plt.show()"
   ]
  },
  {
   "cell_type": "code",
   "execution_count": 6,
   "metadata": {},
   "outputs": [
    {
     "data": {
      "text/plain": [
       "{0, 1, 2, 3, 4}"
      ]
     },
     "execution_count": 6,
     "metadata": {},
     "output_type": "execute_result"
    }
   ],
   "source": [
    "# here eps parameter is very important and optimizing eps is essential\n",
    "# for well defined clusters. I have run DBSCAN with several eps values\n",
    "# and got good clusters with eps=3\n",
    "get_clusters = DBSCAN(eps = 3, min_samples = 4).fit_predict(embedding)\n",
    "\n",
    "# check unique clusters\n",
    "set(get_clusters)"
   ]
  },
  {
   "cell_type": "code",
   "execution_count": 7,
   "metadata": {},
   "outputs": [
    {
     "data": {
      "text/plain": [
       "Counter({1: 1940, 0: 1175, 2: 774, 4: 288, 3: 229})"
      ]
     },
     "execution_count": 7,
     "metadata": {},
     "output_type": "execute_result"
    }
   ],
   "source": [
    "# get count of samples in each cluster\n",
    "Counter(get_clusters)"
   ]
  },
  {
   "cell_type": "code",
   "execution_count": 8,
   "metadata": {},
   "outputs": [
    {
     "data": {
      "image/png": "[encoded data removed]",
      "text/plain": [
       "<Figure size 640x480 with 1 Axes>"
      ]
     },
     "metadata": {},
     "output_type": "display_data"
    }
   ],
   "source": [
    "s = plt.scatter(embedding[:, 0], embedding[:, 1], c = get_clusters, cmap = 'viridis')\n",
    "plt.xlabel('UMAP_1')\n",
    "plt.ylabel('UMAP_2')\n",
    "plt.legend(s.legend_elements()[0], list(set(get_clusters)))\n",
    "plt.title('UMAP clustering of 4406 cells', fontsize=20)\n",
    "plt.show()"
   ]
  },
  {
   "cell_type": "code",
   "execution_count": 9,
   "metadata": {},
   "outputs": [
    {
     "data": {
      "text/html": [
       "<div>\n",
       "<style scoped>\n",
       "    .dataframe tbody tr th:only-of-type {\n",
       "        vertical-align: middle;\n",
       "    }\n",
       "\n",
       "    .dataframe tbody tr th {\n",
       "        vertical-align: top;\n",
       "    }\n",
       "\n",
       "    .dataframe thead th {\n",
       "        text-align: right;\n",
       "    }\n",
       "</style>\n",
       "<table border=\"1\" class=\"dataframe\">\n",
       "  <thead>\n",
       "    <tr style=\"text-align: right;\">\n",
       "      <th></th>\n",
       "      <th>AT1G01070</th>\n",
       "      <th>RPP1A</th>\n",
       "      <th>HTR12</th>\n",
       "      <th>AT1G01453</th>\n",
       "      <th>ADF10</th>\n",
       "      <th>PLIM2B</th>\n",
       "      <th>SBTI1.1</th>\n",
       "      <th>GL22</th>\n",
       "      <th>GPAT2</th>\n",
       "      <th>AT1G02570</th>\n",
       "      <th>...</th>\n",
       "      <th>AT5G66440</th>\n",
       "      <th>AT5G66580</th>\n",
       "      <th>AT5G66590</th>\n",
       "      <th>AT5G66800</th>\n",
       "      <th>AT5G66815</th>\n",
       "      <th>AT5G66860</th>\n",
       "      <th>AT5G66985</th>\n",
       "      <th>IRX14H</th>\n",
       "      <th>PER73</th>\n",
       "      <th>RPL26B</th>\n",
       "    </tr>\n",
       "    <tr>\n",
       "      <th>cells</th>\n",
       "      <th></th>\n",
       "      <th></th>\n",
       "      <th></th>\n",
       "      <th></th>\n",
       "      <th></th>\n",
       "      <th></th>\n",
       "      <th></th>\n",
       "      <th></th>\n",
       "      <th></th>\n",
       "      <th></th>\n",
       "      <th></th>\n",
       "      <th></th>\n",
       "      <th></th>\n",
       "      <th></th>\n",
       "      <th></th>\n",
       "      <th></th>\n",
       "      <th></th>\n",
       "      <th></th>\n",
       "      <th></th>\n",
       "      <th></th>\n",
       "      <th></th>\n",
       "    </tr>\n",
       "  </thead>\n",
       "  <tbody>\n",
       "    <tr>\n",
       "      <th>AAACCTGAGTGTGAAT-1</th>\n",
       "      <td>-0.22</td>\n",
       "      <td>2.49</td>\n",
       "      <td>-0.26</td>\n",
       "      <td>-0.28</td>\n",
       "      <td>-0.60</td>\n",
       "      <td>-0.51</td>\n",
       "      <td>-0.13</td>\n",
       "      <td>-0.07</td>\n",
       "      <td>-0.29</td>\n",
       "      <td>-0.31</td>\n",
       "      <td>...</td>\n",
       "      <td>-0.48</td>\n",
       "      <td>-0.55</td>\n",
       "      <td>2.92</td>\n",
       "      <td>-0.43</td>\n",
       "      <td>-0.24</td>\n",
       "      <td>2.82</td>\n",
       "      <td>-0.24</td>\n",
       "      <td>-0.18</td>\n",
       "      <td>-0.49</td>\n",
       "      <td>1.60</td>\n",
       "    </tr>\n",
       "    <tr>\n",
       "      <th>AAACCTGGTCCGTGAC-1</th>\n",
       "      <td>-0.22</td>\n",
       "      <td>1.38</td>\n",
       "      <td>-0.26</td>\n",
       "      <td>-0.28</td>\n",
       "      <td>0.46</td>\n",
       "      <td>-0.22</td>\n",
       "      <td>-0.13</td>\n",
       "      <td>-0.07</td>\n",
       "      <td>-0.29</td>\n",
       "      <td>-0.31</td>\n",
       "      <td>...</td>\n",
       "      <td>0.00</td>\n",
       "      <td>0.38</td>\n",
       "      <td>0.87</td>\n",
       "      <td>0.47</td>\n",
       "      <td>0.04</td>\n",
       "      <td>0.18</td>\n",
       "      <td>-0.24</td>\n",
       "      <td>-0.18</td>\n",
       "      <td>-0.49</td>\n",
       "      <td>-0.12</td>\n",
       "    </tr>\n",
       "    <tr>\n",
       "      <th>AAACCTGGTTCGGGCT-1</th>\n",
       "      <td>1.85</td>\n",
       "      <td>-0.05</td>\n",
       "      <td>-0.26</td>\n",
       "      <td>-0.28</td>\n",
       "      <td>-0.60</td>\n",
       "      <td>-0.51</td>\n",
       "      <td>-0.13</td>\n",
       "      <td>-0.07</td>\n",
       "      <td>-0.29</td>\n",
       "      <td>-0.31</td>\n",
       "      <td>...</td>\n",
       "      <td>-0.48</td>\n",
       "      <td>-0.55</td>\n",
       "      <td>-0.41</td>\n",
       "      <td>-0.43</td>\n",
       "      <td>-0.24</td>\n",
       "      <td>-0.43</td>\n",
       "      <td>-0.24</td>\n",
       "      <td>-0.18</td>\n",
       "      <td>0.74</td>\n",
       "      <td>0.37</td>\n",
       "    </tr>\n",
       "    <tr>\n",
       "      <th>AAACGGGCACTTCTGC-1</th>\n",
       "      <td>-0.22</td>\n",
       "      <td>0.25</td>\n",
       "      <td>-0.26</td>\n",
       "      <td>0.86</td>\n",
       "      <td>2.40</td>\n",
       "      <td>1.61</td>\n",
       "      <td>-0.13</td>\n",
       "      <td>-0.07</td>\n",
       "      <td>-0.29</td>\n",
       "      <td>0.12</td>\n",
       "      <td>...</td>\n",
       "      <td>-0.48</td>\n",
       "      <td>-0.55</td>\n",
       "      <td>-0.41</td>\n",
       "      <td>-0.43</td>\n",
       "      <td>-0.24</td>\n",
       "      <td>-0.43</td>\n",
       "      <td>-0.24</td>\n",
       "      <td>-0.18</td>\n",
       "      <td>1.90</td>\n",
       "      <td>-0.41</td>\n",
       "    </tr>\n",
       "    <tr>\n",
       "      <th>AAACGGGGTAGGGTAC-1</th>\n",
       "      <td>-0.22</td>\n",
       "      <td>0.08</td>\n",
       "      <td>-0.26</td>\n",
       "      <td>4.42</td>\n",
       "      <td>2.89</td>\n",
       "      <td>1.85</td>\n",
       "      <td>-0.13</td>\n",
       "      <td>-0.07</td>\n",
       "      <td>-0.29</td>\n",
       "      <td>2.60</td>\n",
       "      <td>...</td>\n",
       "      <td>-0.48</td>\n",
       "      <td>-0.55</td>\n",
       "      <td>-0.41</td>\n",
       "      <td>-0.43</td>\n",
       "      <td>-0.24</td>\n",
       "      <td>0.66</td>\n",
       "      <td>-0.24</td>\n",
       "      <td>-0.18</td>\n",
       "      <td>3.94</td>\n",
       "      <td>0.27</td>\n",
       "    </tr>\n",
       "  </tbody>\n",
       "</table>\n",
       "<p>5 rows × 2000 columns</p>\n",
       "</div>"
      ],
      "text/plain": [
       "                    AT1G01070  RPP1A  HTR12  AT1G01453  ADF10  PLIM2B  \\\n",
       "cells                                                                   \n",
       "AAACCTGAGTGTGAAT-1      -0.22   2.49  -0.26      -0.28  -0.60   -0.51   \n",
       "AAACCTGGTCCGTGAC-1      -0.22   1.38  -0.26      -0.28   0.46   -0.22   \n",
       "AAACCTGGTTCGGGCT-1       1.85  -0.05  -0.26      -0.28  -0.60   -0.51   \n",
       "AAACGGGCACTTCTGC-1      -0.22   0.25  -0.26       0.86   2.40    1.61   \n",
       "AAACGGGGTAGGGTAC-1      -0.22   0.08  -0.26       4.42   2.89    1.85   \n",
       "\n",
       "                    SBTI1.1  GL22  GPAT2  AT1G02570  ...  AT5G66440  \\\n",
       "cells                                                ...              \n",
       "AAACCTGAGTGTGAAT-1    -0.13 -0.07  -0.29      -0.31  ...      -0.48   \n",
       "AAACCTGGTCCGTGAC-1    -0.13 -0.07  -0.29      -0.31  ...       0.00   \n",
       "AAACCTGGTTCGGGCT-1    -0.13 -0.07  -0.29      -0.31  ...      -0.48   \n",
       "AAACGGGCACTTCTGC-1    -0.13 -0.07  -0.29       0.12  ...      -0.48   \n",
       "AAACGGGGTAGGGTAC-1    -0.13 -0.07  -0.29       2.60  ...      -0.48   \n",
       "\n",
       "                    AT5G66580  AT5G66590  AT5G66800  AT5G66815  AT5G66860  \\\n",
       "cells                                                                       \n",
       "AAACCTGAGTGTGAAT-1      -0.55       2.92      -0.43      -0.24       2.82   \n",
       "AAACCTGGTCCGTGAC-1       0.38       0.87       0.47       0.04       0.18   \n",
       "AAACCTGGTTCGGGCT-1      -0.55      -0.41      -0.43      -0.24      -0.43   \n",
       "AAACGGGCACTTCTGC-1      -0.55      -0.41      -0.43      -0.24      -0.43   \n",
       "AAACGGGGTAGGGTAC-1      -0.55      -0.41      -0.43      -0.24       0.66   \n",
       "\n",
       "                    AT5G66985  IRX14H  PER73  RPL26B  \n",
       "cells                                                 \n",
       "AAACCTGAGTGTGAAT-1      -0.24   -0.18  -0.49    1.60  \n",
       "AAACCTGGTCCGTGAC-1      -0.24   -0.18  -0.49   -0.12  \n",
       "AAACCTGGTTCGGGCT-1      -0.24   -0.18   0.74    0.37  \n",
       "AAACGGGCACTTCTGC-1      -0.24   -0.18   1.90   -0.41  \n",
       "AAACGGGGTAGGGTAC-1      -0.24   -0.18   3.94    0.27  \n",
       "\n",
       "[5 rows x 2000 columns]"
      ]
     },
     "execution_count": 9,
     "metadata": {},
     "output_type": "execute_result"
    }
   ],
   "source": [
    "# print table with cells from the cluster 1\n",
    "df[get_clusters == 1].head(5)"
   ]
  }
 ],
 "metadata": {
  "kernelspec": {
   "display_name": ".venv",
   "language": "python",
   "name": "python3"
  },
  "language_info": {
   "codemirror_mode": {
    "name": "ipython",
    "version": 3
   },
   "file_extension": ".py",
   "mimetype": "text/x-python",
   "name": "python",
   "nbconvert_exporter": "python",
   "pygments_lexer": "ipython3",
   "version": "3.12.9"
  }
 },
 "nbformat": 4,
 "nbformat_minor": 2
}
